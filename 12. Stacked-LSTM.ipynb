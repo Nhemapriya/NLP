{
  "nbformat": 4,
  "nbformat_minor": 0,
  "metadata": {
    "colab": {
      "name": "12. Stacked LSTM.ipynb",
      "provenance": [],
      "collapsed_sections": []
    },
    "kernelspec": {
      "name": "python3",
      "display_name": "Python 3"
    },
    "language_info": {
      "name": "python"
    }
  },
  "cells": [
    {
      "cell_type": "markdown",
      "metadata": {
        "id": "L1ylvYXvYfHV"
      },
      "source": [
        "# Implementation of stacked LSTM - Stock market forecasting\n",
        "\n",
        "*   Download the dataset - APPLE stock price data\n",
        "    https://github.com/krishnaik06/Stock-MArket-Forecasting/blob/master/AAPL.csv\n",
        "*   Do data pre-processing\n",
        "*   Create a stacked LSTM model\n",
        "*   Train the model and plot the output\n",
        "*   Forecast for next 10 or 20 days\n",
        "\n"
      ]
    },
    {
      "cell_type": "markdown",
      "metadata": {
        "id": "syCimXnaZLtm"
      },
      "source": [
        "**Read the dataset**"
      ]
    },
    {
      "cell_type": "code",
      "metadata": {
        "colab": {
          "base_uri": "https://localhost:8080/",
          "height": 310
        },
        "id": "Li_dO2RgYOoh",
        "outputId": "ae2b2a04-5a7e-4cf8-c1ef-1a91ccc9096c"
      },
      "source": [
        "import pandas as pd\n",
        "data = pd.read_csv(\"/content/drive/MyDrive/NLP/AAPL.csv\")\n",
        "data.head()"
      ],
      "execution_count": 1,
      "outputs": [
        {
          "output_type": "execute_result",
          "data": {
            "text/html": [
              "<div>\n",
              "<style scoped>\n",
              "    .dataframe tbody tr th:only-of-type {\n",
              "        vertical-align: middle;\n",
              "    }\n",
              "\n",
              "    .dataframe tbody tr th {\n",
              "        vertical-align: top;\n",
              "    }\n",
              "\n",
              "    .dataframe thead th {\n",
              "        text-align: right;\n",
              "    }\n",
              "</style>\n",
              "<table border=\"1\" class=\"dataframe\">\n",
              "  <thead>\n",
              "    <tr style=\"text-align: right;\">\n",
              "      <th></th>\n",
              "      <th>Unnamed: 0</th>\n",
              "      <th>symbol</th>\n",
              "      <th>date</th>\n",
              "      <th>close</th>\n",
              "      <th>high</th>\n",
              "      <th>low</th>\n",
              "      <th>open</th>\n",
              "      <th>volume</th>\n",
              "      <th>adjClose</th>\n",
              "      <th>adjHigh</th>\n",
              "      <th>adjLow</th>\n",
              "      <th>adjOpen</th>\n",
              "      <th>adjVolume</th>\n",
              "      <th>divCash</th>\n",
              "      <th>splitFactor</th>\n",
              "    </tr>\n",
              "  </thead>\n",
              "  <tbody>\n",
              "    <tr>\n",
              "      <th>0</th>\n",
              "      <td>0</td>\n",
              "      <td>AAPL</td>\n",
              "      <td>2015-05-27 00:00:00+00:00</td>\n",
              "      <td>132.045</td>\n",
              "      <td>132.260</td>\n",
              "      <td>130.05</td>\n",
              "      <td>130.34</td>\n",
              "      <td>45833246</td>\n",
              "      <td>121.682558</td>\n",
              "      <td>121.880685</td>\n",
              "      <td>119.844118</td>\n",
              "      <td>120.111360</td>\n",
              "      <td>45833246</td>\n",
              "      <td>0.0</td>\n",
              "      <td>1.0</td>\n",
              "    </tr>\n",
              "    <tr>\n",
              "      <th>1</th>\n",
              "      <td>1</td>\n",
              "      <td>AAPL</td>\n",
              "      <td>2015-05-28 00:00:00+00:00</td>\n",
              "      <td>131.780</td>\n",
              "      <td>131.950</td>\n",
              "      <td>131.10</td>\n",
              "      <td>131.86</td>\n",
              "      <td>30733309</td>\n",
              "      <td>121.438354</td>\n",
              "      <td>121.595013</td>\n",
              "      <td>120.811718</td>\n",
              "      <td>121.512076</td>\n",
              "      <td>30733309</td>\n",
              "      <td>0.0</td>\n",
              "      <td>1.0</td>\n",
              "    </tr>\n",
              "    <tr>\n",
              "      <th>2</th>\n",
              "      <td>2</td>\n",
              "      <td>AAPL</td>\n",
              "      <td>2015-05-29 00:00:00+00:00</td>\n",
              "      <td>130.280</td>\n",
              "      <td>131.450</td>\n",
              "      <td>129.90</td>\n",
              "      <td>131.23</td>\n",
              "      <td>50884452</td>\n",
              "      <td>120.056069</td>\n",
              "      <td>121.134251</td>\n",
              "      <td>119.705890</td>\n",
              "      <td>120.931516</td>\n",
              "      <td>50884452</td>\n",
              "      <td>0.0</td>\n",
              "      <td>1.0</td>\n",
              "    </tr>\n",
              "    <tr>\n",
              "      <th>3</th>\n",
              "      <td>3</td>\n",
              "      <td>AAPL</td>\n",
              "      <td>2015-06-01 00:00:00+00:00</td>\n",
              "      <td>130.535</td>\n",
              "      <td>131.390</td>\n",
              "      <td>130.05</td>\n",
              "      <td>131.20</td>\n",
              "      <td>32112797</td>\n",
              "      <td>120.291057</td>\n",
              "      <td>121.078960</td>\n",
              "      <td>119.844118</td>\n",
              "      <td>120.903870</td>\n",
              "      <td>32112797</td>\n",
              "      <td>0.0</td>\n",
              "      <td>1.0</td>\n",
              "    </tr>\n",
              "    <tr>\n",
              "      <th>4</th>\n",
              "      <td>4</td>\n",
              "      <td>AAPL</td>\n",
              "      <td>2015-06-02 00:00:00+00:00</td>\n",
              "      <td>129.960</td>\n",
              "      <td>130.655</td>\n",
              "      <td>129.32</td>\n",
              "      <td>129.86</td>\n",
              "      <td>33667627</td>\n",
              "      <td>119.761181</td>\n",
              "      <td>120.401640</td>\n",
              "      <td>119.171406</td>\n",
              "      <td>119.669029</td>\n",
              "      <td>33667627</td>\n",
              "      <td>0.0</td>\n",
              "      <td>1.0</td>\n",
              "    </tr>\n",
              "  </tbody>\n",
              "</table>\n",
              "</div>"
            ],
            "text/plain": [
              "   Unnamed: 0 symbol  ... divCash  splitFactor\n",
              "0           0   AAPL  ...     0.0          1.0\n",
              "1           1   AAPL  ...     0.0          1.0\n",
              "2           2   AAPL  ...     0.0          1.0\n",
              "3           3   AAPL  ...     0.0          1.0\n",
              "4           4   AAPL  ...     0.0          1.0\n",
              "\n",
              "[5 rows x 15 columns]"
            ]
          },
          "metadata": {},
          "execution_count": 1
        }
      ]
    },
    {
      "cell_type": "code",
      "metadata": {
        "colab": {
          "base_uri": "https://localhost:8080/"
        },
        "id": "1rxBoHqdZZXi",
        "outputId": "eb9035a9-a901-47a3-a927-cfda4c9fbede"
      },
      "source": [
        "#obtain the close price of stock market\n",
        "\n",
        "df1 = data.reset_index()['close']\n",
        "df1.head()"
      ],
      "execution_count": 2,
      "outputs": [
        {
          "output_type": "execute_result",
          "data": {
            "text/plain": [
              "0    132.045\n",
              "1    131.780\n",
              "2    130.280\n",
              "3    130.535\n",
              "4    129.960\n",
              "Name: close, dtype: float64"
            ]
          },
          "metadata": {},
          "execution_count": 2
        }
      ]
    },
    {
      "cell_type": "markdown",
      "metadata": {
        "id": "kjAWZZ-aZr1I"
      },
      "source": [
        "**Perform data pre-processing**"
      ]
    },
    {
      "cell_type": "code",
      "metadata": {
        "id": "CldSNNdRYjkE"
      },
      "source": [
        "# scale the values between 0 to 1\n",
        "import numpy as np\n",
        "\n",
        "from sklearn.preprocessing import MinMaxScaler\n",
        "scaler=MinMaxScaler(feature_range=(0,1))\n",
        "df1=scaler.fit_transform(np.array(df1).reshape(-1,1))"
      ],
      "execution_count": 4,
      "outputs": []
    },
    {
      "cell_type": "code",
      "metadata": {
        "colab": {
          "base_uri": "https://localhost:8080/"
        },
        "id": "ydndJI8JZPDo",
        "outputId": "8f3f1af3-8402-485e-c66e-4405e3555f46"
      },
      "source": [
        "df1 #values will be between 0 and 1"
      ],
      "execution_count": 5,
      "outputs": [
        {
          "output_type": "execute_result",
          "data": {
            "text/plain": [
              "array([[0.17607447],\n",
              "       [0.17495567],\n",
              "       [0.16862282],\n",
              "       ...,\n",
              "       [0.96635143],\n",
              "       [0.9563033 ],\n",
              "       [0.96491598]])"
            ]
          },
          "metadata": {},
          "execution_count": 5
        }
      ]
    },
    {
      "cell_type": "markdown",
      "metadata": {
        "id": "b6GR74cuaKCv"
      },
      "source": [
        "**Obtain train and test data**"
      ]
    },
    {
      "cell_type": "code",
      "metadata": {
        "id": "Kv9BX9orZu_G"
      },
      "source": [
        "# For lstm , we have to divide the train and test data differently\n",
        "# stock prices depends on previous day's value - so divide the data based on date\n",
        "\n",
        " ##splitting dataset into train and test split\n",
        "#65% of data is for training\n",
        "training_size=int(len(df1)*0.65)\n",
        "\n",
        "#remaning is test data\n",
        "test_size=len(df1)-training_size\n",
        "\n",
        "train_data,test_data=df1[0:training_size,:],df1[training_size:len(df1),:1]"
      ],
      "execution_count": 6,
      "outputs": []
    },
    {
      "cell_type": "markdown",
      "metadata": {
        "id": "JCXPonQoco7S"
      },
      "source": [
        " **Do basic data pre-processing** \n",
        "\n",
        " based on timestamp and features\n",
        "\n",
        " eg: 4 7 8 9 10 \n",
        "\n",
        " To determine 8, it depends on 4 and 7. Then move one index right, i+1, then to determine 9, it depns on 4, 7, 8."
      ]
    },
    {
      "cell_type": "code",
      "metadata": {
        "id": "0eNWSRysaM_J"
      },
      "source": [
        "import numpy\n",
        "# convert an array of values into a dataset matrix\n",
        "def create_dataset(dataset, time_step=1):\n",
        "\tdataX, dataY = [], []\n",
        "\tfor i in range(len(dataset)-time_step-1):\n",
        "\t\ta = dataset[i:(i+time_step), 0]   ###i=0, 0,1,2,3-----99   100 \n",
        "\t\tdataX.append(a)\n",
        "\t\tdataY.append(dataset[i + time_step, 0])\n",
        "\treturn numpy.array(dataX), numpy.array(dataY)"
      ],
      "execution_count": 9,
      "outputs": []
    },
    {
      "cell_type": "code",
      "metadata": {
        "id": "H9yAYeUHaGhs"
      },
      "source": [
        "# reshape into X=t,t+1,t+2,t+3 and Y=t+4\n",
        "\n",
        "time_step = 100\n",
        "X_train, y_train = create_dataset(train_data, time_step)\n",
        "X_test, ytest = create_dataset(test_data, time_step)"
      ],
      "execution_count": 10,
      "outputs": []
    },
    {
      "cell_type": "code",
      "metadata": {
        "colab": {
          "base_uri": "https://localhost:8080/"
        },
        "id": "kk6RU0r2Zu8T",
        "outputId": "f5e5b2bc-671f-4a26-dc21-a28f7b5c6433"
      },
      "source": [
        "print(X_train.shape), print(y_train.shape)\n",
        "print(X_test.shape), print(ytest.shape)\n"
      ],
      "execution_count": 11,
      "outputs": [
        {
          "output_type": "stream",
          "name": "stdout",
          "text": [
            "(716, 100)\n",
            "(716,)\n",
            "(340, 100)\n",
            "(340,)\n"
          ]
        },
        {
          "output_type": "execute_result",
          "data": {
            "text/plain": [
              "(None, None)"
            ]
          },
          "metadata": {},
          "execution_count": 11
        }
      ]
    },
    {
      "cell_type": "code",
      "metadata": {
        "id": "6YPLJMAWfGuc"
      },
      "source": [
        "# reshape input to be [samples, time steps, features] which is required for LSTM\n",
        "#we get three dimensions now\n",
        "\n",
        "X_train =X_train.reshape(X_train.shape[0],X_train.shape[1] , 1)\n",
        "X_test = X_test.reshape(X_test.shape[0],X_test.shape[1] , 1)"
      ],
      "execution_count": 12,
      "outputs": []
    },
    {
      "cell_type": "markdown",
      "metadata": {
        "id": "Sqj7CUM9fP3_"
      },
      "source": [
        "**Create the LSTM Model**"
      ]
    },
    {
      "cell_type": "code",
      "metadata": {
        "id": "e4aQKIEgfGr1"
      },
      "source": [
        "# Create the Stacked LSTM model\n",
        "from tensorflow.keras.models import Sequential\n",
        "from tensorflow.keras.layers import Dense\n",
        "from tensorflow.keras.layers import LSTM\n",
        "\n",
        "\n",
        "model=Sequential()\n",
        "model.add(LSTM(50,return_sequences=True,input_shape=(100,1))) #return seq will maintain the order\n",
        "model.add(LSTM(50,return_sequences=True))\n",
        "model.add(LSTM(50))\n",
        "model.add(Dense(1))\n",
        "model.compile(loss='mean_squared_error',optimizer='adam')"
      ],
      "execution_count": 13,
      "outputs": []
    },
    {
      "cell_type": "code",
      "metadata": {
        "colab": {
          "base_uri": "https://localhost:8080/"
        },
        "id": "2rM6taYzfSlT",
        "outputId": "2c9fb249-08d1-4a2b-e519-2db4ccd6eb3e"
      },
      "source": [
        "model.summary()"
      ],
      "execution_count": 14,
      "outputs": [
        {
          "output_type": "stream",
          "name": "stdout",
          "text": [
            "Model: \"sequential\"\n",
            "_________________________________________________________________\n",
            " Layer (type)                Output Shape              Param #   \n",
            "=================================================================\n",
            " lstm (LSTM)                 (None, 100, 50)           10400     \n",
            "                                                                 \n",
            " lstm_1 (LSTM)               (None, 100, 50)           20200     \n",
            "                                                                 \n",
            " lstm_2 (LSTM)               (None, 50)                20200     \n",
            "                                                                 \n",
            " dense (Dense)               (None, 1)                 51        \n",
            "                                                                 \n",
            "=================================================================\n",
            "Total params: 50,851\n",
            "Trainable params: 50,851\n",
            "Non-trainable params: 0\n",
            "_________________________________________________________________\n"
          ]
        }
      ]
    },
    {
      "cell_type": "markdown",
      "metadata": {
        "id": "gyLTiY81frAj"
      },
      "source": [
        "**Train the data**"
      ]
    },
    {
      "cell_type": "code",
      "metadata": {
        "colab": {
          "base_uri": "https://localhost:8080/"
        },
        "id": "1f6raVMDfGns",
        "outputId": "31c9b005-46f1-4d32-ef67-addf7126c892"
      },
      "source": [
        "model.fit(X_train,y_train,validation_data=(X_test,ytest),epochs=50,batch_size=64,verbose=1)"
      ],
      "execution_count": 15,
      "outputs": [
        {
          "output_type": "stream",
          "name": "stdout",
          "text": [
            "Epoch 1/50\n",
            "12/12 [==============================] - 8s 277ms/step - loss: 0.0192 - val_loss: 0.0625\n",
            "Epoch 2/50\n",
            "12/12 [==============================] - 2s 168ms/step - loss: 0.0043 - val_loss: 0.0049\n",
            "Epoch 3/50\n",
            "12/12 [==============================] - 2s 167ms/step - loss: 0.0013 - val_loss: 0.0118\n",
            "Epoch 4/50\n",
            "12/12 [==============================] - 2s 169ms/step - loss: 8.8551e-04 - val_loss: 0.0041\n",
            "Epoch 5/50\n",
            "12/12 [==============================] - 2s 171ms/step - loss: 6.5285e-04 - val_loss: 0.0037\n",
            "Epoch 6/50\n",
            "12/12 [==============================] - 2s 172ms/step - loss: 5.7159e-04 - val_loss: 0.0037\n",
            "Epoch 7/50\n",
            "12/12 [==============================] - 2s 169ms/step - loss: 5.7107e-04 - val_loss: 0.0037\n",
            "Epoch 8/50\n",
            "12/12 [==============================] - 2s 170ms/step - loss: 5.8561e-04 - val_loss: 0.0035\n",
            "Epoch 9/50\n",
            "12/12 [==============================] - 2s 172ms/step - loss: 5.5453e-04 - val_loss: 0.0036\n",
            "Epoch 10/50\n",
            "12/12 [==============================] - 2s 172ms/step - loss: 5.5478e-04 - val_loss: 0.0034\n",
            "Epoch 11/50\n",
            "12/12 [==============================] - 2s 170ms/step - loss: 6.0033e-04 - val_loss: 0.0034\n",
            "Epoch 12/50\n",
            "12/12 [==============================] - 2s 170ms/step - loss: 5.6969e-04 - val_loss: 0.0032\n",
            "Epoch 13/50\n",
            "12/12 [==============================] - 2s 172ms/step - loss: 5.2063e-04 - val_loss: 0.0034\n",
            "Epoch 14/50\n",
            "12/12 [==============================] - 2s 171ms/step - loss: 5.3332e-04 - val_loss: 0.0036\n",
            "Epoch 15/50\n",
            "12/12 [==============================] - 2s 170ms/step - loss: 5.5530e-04 - val_loss: 0.0037\n",
            "Epoch 16/50\n",
            "12/12 [==============================] - 2s 172ms/step - loss: 5.4703e-04 - val_loss: 0.0030\n",
            "Epoch 17/50\n",
            "12/12 [==============================] - 2s 170ms/step - loss: 4.9129e-04 - val_loss: 0.0029\n",
            "Epoch 18/50\n",
            "12/12 [==============================] - 2s 169ms/step - loss: 4.8865e-04 - val_loss: 0.0030\n",
            "Epoch 19/50\n",
            "12/12 [==============================] - 2s 170ms/step - loss: 4.8223e-04 - val_loss: 0.0027\n",
            "Epoch 20/50\n",
            "12/12 [==============================] - 2s 170ms/step - loss: 4.7966e-04 - val_loss: 0.0027\n",
            "Epoch 21/50\n",
            "12/12 [==============================] - 2s 169ms/step - loss: 4.6040e-04 - val_loss: 0.0026\n",
            "Epoch 22/50\n",
            "12/12 [==============================] - 2s 172ms/step - loss: 4.4782e-04 - val_loss: 0.0026\n",
            "Epoch 23/50\n",
            "12/12 [==============================] - 2s 170ms/step - loss: 4.3908e-04 - val_loss: 0.0024\n",
            "Epoch 24/50\n",
            "12/12 [==============================] - 2s 170ms/step - loss: 4.3208e-04 - val_loss: 0.0024\n",
            "Epoch 25/50\n",
            "12/12 [==============================] - 2s 171ms/step - loss: 4.2687e-04 - val_loss: 0.0023\n",
            "Epoch 26/50\n",
            "12/12 [==============================] - 2s 170ms/step - loss: 4.2590e-04 - val_loss: 0.0024\n",
            "Epoch 27/50\n",
            "12/12 [==============================] - 2s 173ms/step - loss: 4.7390e-04 - val_loss: 0.0022\n",
            "Epoch 28/50\n",
            "12/12 [==============================] - 2s 172ms/step - loss: 4.3072e-04 - val_loss: 0.0021\n",
            "Epoch 29/50\n",
            "12/12 [==============================] - 2s 173ms/step - loss: 3.9587e-04 - val_loss: 0.0022\n",
            "Epoch 30/50\n",
            "12/12 [==============================] - 2s 171ms/step - loss: 4.0291e-04 - val_loss: 0.0021\n",
            "Epoch 31/50\n",
            "12/12 [==============================] - 2s 169ms/step - loss: 4.1479e-04 - val_loss: 0.0023\n",
            "Epoch 32/50\n",
            "12/12 [==============================] - 2s 172ms/step - loss: 4.1494e-04 - val_loss: 0.0021\n",
            "Epoch 33/50\n",
            "12/12 [==============================] - 2s 170ms/step - loss: 4.0931e-04 - val_loss: 0.0028\n",
            "Epoch 34/50\n",
            "12/12 [==============================] - 2s 171ms/step - loss: 4.0901e-04 - val_loss: 0.0017\n",
            "Epoch 35/50\n",
            "12/12 [==============================] - 2s 172ms/step - loss: 3.6508e-04 - val_loss: 0.0016\n",
            "Epoch 36/50\n",
            "12/12 [==============================] - 2s 171ms/step - loss: 3.6652e-04 - val_loss: 0.0016\n",
            "Epoch 37/50\n",
            "12/12 [==============================] - 2s 173ms/step - loss: 3.7753e-04 - val_loss: 0.0019\n",
            "Epoch 38/50\n",
            "12/12 [==============================] - 2s 170ms/step - loss: 3.9574e-04 - val_loss: 0.0021\n",
            "Epoch 39/50\n",
            "12/12 [==============================] - 2s 172ms/step - loss: 3.5196e-04 - val_loss: 0.0017\n",
            "Epoch 40/50\n",
            "12/12 [==============================] - 2s 172ms/step - loss: 3.4296e-04 - val_loss: 0.0019\n",
            "Epoch 41/50\n",
            "12/12 [==============================] - 2s 169ms/step - loss: 3.2150e-04 - val_loss: 0.0017\n",
            "Epoch 42/50\n",
            "12/12 [==============================] - 2s 168ms/step - loss: 3.1891e-04 - val_loss: 0.0016\n",
            "Epoch 43/50\n",
            "12/12 [==============================] - 2s 170ms/step - loss: 3.1720e-04 - val_loss: 0.0015\n",
            "Epoch 44/50\n",
            "12/12 [==============================] - 2s 170ms/step - loss: 3.4281e-04 - val_loss: 0.0020\n",
            "Epoch 45/50\n",
            "12/12 [==============================] - 2s 171ms/step - loss: 3.9046e-04 - val_loss: 0.0016\n",
            "Epoch 46/50\n",
            "12/12 [==============================] - 2s 171ms/step - loss: 3.3871e-04 - val_loss: 0.0016\n",
            "Epoch 47/50\n",
            "12/12 [==============================] - 2s 169ms/step - loss: 3.1125e-04 - val_loss: 0.0015\n",
            "Epoch 48/50\n",
            "12/12 [==============================] - 2s 170ms/step - loss: 2.9069e-04 - val_loss: 0.0029\n",
            "Epoch 49/50\n",
            "12/12 [==============================] - 2s 170ms/step - loss: 3.5702e-04 - val_loss: 0.0017\n",
            "Epoch 50/50\n",
            "12/12 [==============================] - 2s 170ms/step - loss: 2.9351e-04 - val_loss: 0.0015\n"
          ]
        },
        {
          "output_type": "execute_result",
          "data": {
            "text/plain": [
              "<keras.callbacks.History at 0x7f5e515e8890>"
            ]
          },
          "metadata": {},
          "execution_count": 15
        }
      ]
    },
    {
      "cell_type": "markdown",
      "metadata": {
        "id": "rnzRHzWGf5zc"
      },
      "source": [
        "**Predict the values**"
      ]
    },
    {
      "cell_type": "code",
      "metadata": {
        "id": "aCtj7dB0fGkE"
      },
      "source": [
        "train_predict=model.predict(X_train)\n",
        "test_predict=model.predict(X_test)"
      ],
      "execution_count": 16,
      "outputs": []
    },
    {
      "cell_type": "code",
      "metadata": {
        "id": "ETU_WRgeftn-"
      },
      "source": [
        "##Transformback to original form - as we have scaled the values previously using minmax scalar\n",
        "train_predict=scaler.inverse_transform(train_predict)\n",
        "test_predict=scaler.inverse_transform(test_predict)"
      ],
      "execution_count": 17,
      "outputs": []
    },
    {
      "cell_type": "code",
      "metadata": {
        "colab": {
          "base_uri": "https://localhost:8080/"
        },
        "id": "4GFWnyrQgFVH",
        "outputId": "34b7f02c-fb7c-48cc-e9c8-a3f2bc9eb87b"
      },
      "source": [
        "### Calculate RMSE performance metrics\n",
        "import math\n",
        "from sklearn.metrics import mean_squared_error\n",
        "math.sqrt(mean_squared_error(y_train,train_predict))"
      ],
      "execution_count": 18,
      "outputs": [
        {
          "output_type": "execute_result",
          "data": {
            "text/plain": [
              "143.2926562963076"
            ]
          },
          "metadata": {},
          "execution_count": 18
        }
      ]
    },
    {
      "cell_type": "code",
      "metadata": {
        "colab": {
          "base_uri": "https://localhost:8080/",
          "height": 265
        },
        "id": "Npkyp-KZgFKT",
        "outputId": "193435c1-0182-43dc-9d6b-f8522e803c76"
      },
      "source": [
        "### Plotting : Refer the lstm link\n",
        "# shift train predictions for plotting\n",
        "\n",
        "import matplotlib.pyplot as plt\n",
        "\n",
        "look_back=100\n",
        "trainPredictPlot = numpy.empty_like(df1)\n",
        "trainPredictPlot[:, :] = np.nan\n",
        "trainPredictPlot[look_back:len(train_predict)+look_back, :] = train_predict\n",
        "\n",
        "# shift test predictions for plotting\n",
        "testPredictPlot = numpy.empty_like(df1)\n",
        "testPredictPlot[:, :] = numpy.nan\n",
        "testPredictPlot[len(train_predict)+(look_back*2)+1:len(df1)-1, :] = test_predict\n",
        "# plot baseline and predictions\n",
        "\n",
        "plt.plot(scaler.inverse_transform(df1))\n",
        "plt.plot(trainPredictPlot)\n",
        "plt.plot(testPredictPlot)\n",
        "plt.show()"
      ],
      "execution_count": 20,
      "outputs": [
        {
          "output_type": "display_data",
          "data": {
            "image/png": "[encoded data removed]",
            "text/plain": [
              "<Figure size 432x288 with 1 Axes>"
            ]
          },
          "metadata": {
            "needs_background": "light"
          }
        }
      ]
    }
  ]
}